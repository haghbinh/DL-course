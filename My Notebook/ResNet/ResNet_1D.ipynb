{
 "cells": [
  {
   "cell_type": "markdown",
   "metadata": {},
   "source": [
    "# 1D ResNet Implementation"
   ]
  },
  {
   "cell_type": "code",
   "execution_count": 1,
   "metadata": {},
   "outputs": [],
   "source": [
    "import torch\n",
    "import torch.nn as nn\n",
    "import torch.nn.functional as F"
   ]
  },
  {
   "cell_type": "code",
   "execution_count": 10,
   "metadata": {},
   "outputs": [],
   "source": [
    "class SimpleResidualBlock1D(nn.Module):\n",
    "    def __init__(self, in_channels, out_channels):\n",
    "        super(SimpleResidualBlock1D, self).__init__()\n",
    "        self.conv1 = nn.Conv1d(in_channels, out_channels, kernel_size=3, padding=1)\n",
    "        self.bn1 = nn.BatchNorm1d(out_channels)\n",
    "        self.relu = nn.ReLU()  # Define ReLU as a layer\n",
    "        self.conv2 = nn.Conv1d(out_channels, out_channels, kernel_size=3, padding=1)\n",
    "        self.bn2 = nn.BatchNorm1d(out_channels)\n",
    "        \n",
    "        self.shortcut = nn.Conv1d(in_channels, out_channels, kernel_size=1) if in_channels != out_channels else None\n",
    "\n",
    "    def forward(self, x):\n",
    "        identity = x\n",
    "        out = self.relu(self.bn1(self.conv1(x)))\n",
    "        out = self.bn2(self.conv2(out))\n",
    "        \n",
    "        if self.shortcut:\n",
    "            identity = self.shortcut(x)\n",
    "        \n",
    "        out += identity\n",
    "        return self.relu(out)\n"
   ]
  },
  {
   "cell_type": "code",
   "execution_count": 11,
   "metadata": {},
   "outputs": [],
   "source": [
    "class SimpleResNet1D(nn.Module):\n",
    "    def __init__(self):\n",
    "        super(SimpleResNet1D, self).__init__()\n",
    "        self.initial_conv = nn.Conv1d(1, 16, kernel_size=7, padding=3)\n",
    "        self.initial_bn = nn.BatchNorm1d(16)\n",
    "        self.relu = nn.ReLU()\n",
    "        self.residual_block = SimpleResidualBlock1D(16, 16)\n",
    "        self.fc = nn.Linear(16, 1)\n",
    "\n",
    "    def forward(self, x):\n",
    "        x = self.relu(self.initial_bn(self.initial_conv(x)))\n",
    "        x = self.residual_block(x)\n",
    "        x = torch.mean(x, dim=2)  # Global average pooling\n",
    "        x = self.fc(x)\n",
    "        return x"
   ]
  },
  {
   "cell_type": "markdown",
   "metadata": {},
   "source": [
    "Sample input: batch of 10 1D signals with 100 timesteps"
   ]
  },
  {
   "cell_type": "code",
   "execution_count": 12,
   "metadata": {},
   "outputs": [
    {
     "name": "stdout",
     "output_type": "stream",
     "text": [
      "Output shape: torch.Size([10, 1])\n"
     ]
    }
   ],
   "source": [
    "sample_input = torch.randn(10, 1, 100)  # (batch_size, channels, length)\n",
    "model = SimpleResNet1D()\n",
    "output = model(sample_input)\n",
    "print(\"Output shape:\", output.shape)  # Should output: [10, 1]\n"
   ]
  }
 ],
 "metadata": {
  "kernelspec": {
   "display_name": "Python 3",
   "language": "python",
   "name": "python3"
  },
  "language_info": {
   "codemirror_mode": {
    "name": "ipython",
    "version": 3
   },
   "file_extension": ".py",
   "mimetype": "text/x-python",
   "name": "python",
   "nbconvert_exporter": "python",
   "pygments_lexer": "ipython3",
   "version": "3.12.3"
  }
 },
 "nbformat": 4,
 "nbformat_minor": 2
}
