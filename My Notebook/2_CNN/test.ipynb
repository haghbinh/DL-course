{
 "cells": [
  {
   "cell_type": "code",
   "execution_count": 1,
   "id": "0a7c9687",
   "metadata": {},
   "outputs": [],
   "source": [
    "import torch\n",
    "import torch.nn as nn\n",
    "\n"
   ]
  },
  {
   "cell_type": "code",
   "execution_count": 22,
   "id": "8905337c",
   "metadata": {},
   "outputs": [],
   "source": [
    "class Mynet2d(nn.Module):\n",
    "    def __init__(self):\n",
    "        super(Mynet2d, self).__init__()\n",
    "        self.conv2d_layer_1 = nn.Conv2d(in_channels=3, out_channels=6, kernel_size=3,\n",
    "                               padding=1)\n",
    "        self.act = nn.ReLU()\n",
    "        self.drop = nn.Dropout(p=0.25)\n",
    "        self.pool = nn.MaxPool2d(kernel_size=2, stride=2)\n",
    "        self.conv2d_layer_2 = nn.Conv2d(in_channels=6, out_channels=12, kernel_size=3, \n",
    "              padding=1, stride=1, dilation=1)\n",
    "        self.flat =  nn.Flatten()\n",
    "        self.fc = nn.Linear(432, 10)\n",
    "\n",
    "    def forward(self,x):\n",
    "        x=self.conv2d_layer_1(x)\n",
    "        x=self.act(x)\n",
    "        x=self.drop(x)\n",
    "        x=self.pool(x)\n",
    "        x=self.conv2d_layer_2(x)\n",
    "        x=self.act(x)\n",
    "        x=self.drop(x)\n",
    "        x=self.pool(x)\n",
    "        x=self.flat(x)\n",
    "        x=self.fc(x)\n",
    "        return x\n",
    "\n"
   ]
  },
  {
   "cell_type": "code",
   "execution_count": 20,
   "id": "ba57931d",
   "metadata": {},
   "outputs": [],
   "source": [
    "model = Mynet2d()\n",
    "x_in = torch.rand(size=(5,3,25,25))"
   ]
  },
  {
   "cell_type": "code",
   "execution_count": 21,
   "id": "966a3ca6",
   "metadata": {},
   "outputs": [
    {
     "data": {
      "text/plain": [
       "torch.Size([5, 12, 6, 6])"
      ]
     },
     "execution_count": 21,
     "metadata": {},
     "output_type": "execute_result"
    }
   ],
   "source": [
    "y_out = model(x_in)\n",
    "y_out.shape"
   ]
  }
 ],
 "metadata": {
  "kernelspec": {
   "display_name": "Python 3",
   "language": "python",
   "name": "python3"
  },
  "language_info": {
   "codemirror_mode": {
    "name": "ipython",
    "version": 3
   },
   "file_extension": ".py",
   "mimetype": "text/x-python",
   "name": "python",
   "nbconvert_exporter": "python",
   "pygments_lexer": "ipython3",
   "version": "3.13.2"
  }
 },
 "nbformat": 4,
 "nbformat_minor": 5
}
