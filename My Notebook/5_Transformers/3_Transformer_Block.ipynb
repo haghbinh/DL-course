{
 "cells": [
  {
   "cell_type": "markdown",
   "metadata": {},
   "source": [
    "# Transformer Block Implementation"
   ]
  },
  {
   "cell_type": "markdown",
   "metadata": {},
   "source": [
    "To build a simple Transformer block and pass the forward input $X$ through it, let's extend the previous example by implementing the full Transformer block. The Transformer block consists of the following components:\n",
    "\n",
    "* **Self-Attention:** Computes attention scores to attend to different parts of the sequence.\n",
    "* **Feed-Forward Network:** A fully connected feed-forward network.\n",
    "* **Layer Normalization:** Applied after the attention and feed-forward network to stabilize training.\n",
    "* **Residual Connections:** Added around the attention and feed-forward layers.\n",
    "\n",
    "Below is the implementation of a Transformer block in PyTorch:"
   ]
  },
  {
   "cell_type": "code",
   "execution_count": 1,
   "metadata": {},
   "outputs": [],
   "source": [
    "import torch\n",
    "import torch.nn as nn\n",
    "import torch.nn.functional as F\n",
    "\n",
    "class TransformerBlock(nn.Module):\n",
    "    def __init__(self, embed_size, num_heads, ff_hidden_size, dropout=0.1):\n",
    "        super(TransformerBlock, self).__init__()\n",
    "        \n",
    "        # Multi-Head Attention\n",
    "        self.attention = nn.MultiheadAttention(embed_size, num_heads, dropout=dropout)\n",
    "        \n",
    "        # Feed Forward Network\n",
    "        self.ffn = nn.Sequential(\n",
    "            nn.Linear(embed_size, ff_hidden_size),\n",
    "            nn.ReLU(),\n",
    "            nn.Linear(ff_hidden_size, embed_size)\n",
    "        )\n",
    "        \n",
    "        # Layer Normalization\n",
    "        self.norm1 = nn.LayerNorm(embed_size)\n",
    "        self.norm2 = nn.LayerNorm(embed_size)\n",
    "        \n",
    "        # Dropout\n",
    "        self.dropout = nn.Dropout(dropout)\n",
    "    \n",
    "    def forward(self, x):\n",
    "        # x is expected to have shape [seq_len, batch_size, embed_size]\n",
    "\n",
    "        # Attention layer with residual connection\n",
    "        attn_out, _ = self.attention(x, x, x)  # Self-attention: Q = K = V = x\n",
    "        x = self.norm1(x + self.dropout(attn_out))  # Add & Norm\n",
    "        \n",
    "        # Feed-forward layer with residual connection\n",
    "        ff_out = self.ffn(x)\n",
    "        x = self.norm2(x + self.dropout(ff_out))  # Add & Norm\n",
    "        \n",
    "        return x\n"
   ]
  },
  {
   "cell_type": "code",
   "execution_count": 3,
   "metadata": {},
   "outputs": [],
   "source": [
    "# Example sequence length, batch size, and embedding size\n",
    "seq_len = 5  # Sequence length (e.g., number of tokens)\n",
    "batch_size = 3  # Number of samples in the batch\n",
    "embed_size = 4  # Dimensionality of the embedding\n",
    "\n",
    "# Random input tensor for X\n",
    "X = torch.rand(seq_len, batch_size, embed_size)  # Shape: [seq_len, batch_size, embed_size]\n"
   ]
  },
  {
   "cell_type": "code",
   "execution_count": 4,
   "metadata": {},
   "outputs": [
    {
     "name": "stdout",
     "output_type": "stream",
     "text": [
      "torch.Size([5, 3, 4])\n"
     ]
    }
   ],
   "source": [
    "# Initialize the Transformer Block\n",
    "num_heads = 2\n",
    "ff_hidden_size = 8  # Feed-forward hidden size\n",
    "transformer_block = TransformerBlock(embed_size, num_heads, ff_hidden_size)\n",
    "\n",
    "# Pass the input through the Transformer block\n",
    "output = transformer_block(X)\n",
    "\n",
    "print(output.shape)  # Output shape should be [seq_len, batch_size, embed_size]\n"
   ]
  }
 ],
 "metadata": {
  "kernelspec": {
   "display_name": "Python 3",
   "language": "python",
   "name": "python3"
  },
  "language_info": {
   "codemirror_mode": {
    "name": "ipython",
    "version": 3
   },
   "file_extension": ".py",
   "mimetype": "text/x-python",
   "name": "python",
   "nbconvert_exporter": "python",
   "pygments_lexer": "ipython3",
   "version": "3.12.7"
  }
 },
 "nbformat": 4,
 "nbformat_minor": 2
}
